{
 "cells": [
  {
   "cell_type": "code",
   "execution_count": null,
   "id": "4a6097be",
   "metadata": {},
   "outputs": [
    {
     "name": "stdout",
     "output_type": "stream",
     "text": [
      "Test Loss: 5.1994, Accuracy: 19.91%\n"
     ]
    }
   ],
   "source": [
    "import sys\n",
    "import os\n",
    "import torch\n",
    "from src.models import FashionMNISTModel\n",
    "from datasets import IncrementalFashionMNIST\n",
    "from src.eval import evaluate\n",
    "from src.utils import add_heads\n",
    "\n",
    "\n",
    "device = torch.device('cuda' if torch.cuda.is_available() else 'cpu')\n",
    "criterion = torch.nn.CrossEntropyLoss()\n",
    "datamanager = IncrementalFashionMNIST(increment=2, batch_size=64, shuffle=True)\n",
    "datamanager.next_task()  # Move to the next task to set current_class correctly\n",
    "model = FashionMNISTModel(output_size=10)\n",
    "model.to(device)\n",
    "save_path = './experiments/fashion_mnist_incremental/model_after_task_5.pth'\n",
    "\n",
    "model.load_state_dict(torch.load(save_path))\n",
    "model.eval()\n",
    "\n",
    "dataloader = datamanager.get_whole_set(mode='test')\n",
    "evaluate(model, dataloader, criterion, device)"
   ]
  },
  {
   "cell_type": "code",
   "execution_count": 7,
   "id": "27032a7a",
   "metadata": {},
   "outputs": [
    {
     "name": "stderr",
     "output_type": "stream",
     "text": [
      "Epoch 1/5: 100%|██████████| 938/938 [00:05<00:00, 174.92it/s, loss=0.628]\n"
     ]
    },
    {
     "name": "stdout",
     "output_type": "stream",
     "text": [
      "Epoch [1/5], Loss: 0.6215\n"
     ]
    },
    {
     "name": "stderr",
     "output_type": "stream",
     "text": [
      "Epoch 2/5: 100%|██████████| 938/938 [00:05<00:00, 174.32it/s, loss=1.06]\n"
     ]
    },
    {
     "name": "stdout",
     "output_type": "stream",
     "text": [
      "Epoch [2/5], Loss: 1.0554\n"
     ]
    },
    {
     "name": "stderr",
     "output_type": "stream",
     "text": [
      "Epoch 3/5: 100%|██████████| 938/938 [00:05<00:00, 179.29it/s, loss=1.48]\n"
     ]
    },
    {
     "name": "stdout",
     "output_type": "stream",
     "text": [
      "Epoch [3/5], Loss: 1.4504\n"
     ]
    },
    {
     "name": "stderr",
     "output_type": "stream",
     "text": [
      "Epoch 4/5: 100%|██████████| 938/938 [00:05<00:00, 177.43it/s, loss=1.81]  \n"
     ]
    },
    {
     "name": "stdout",
     "output_type": "stream",
     "text": [
      "Epoch [4/5], Loss: 1.8147\n"
     ]
    },
    {
     "name": "stderr",
     "output_type": "stream",
     "text": [
      "Epoch 5/5: 100%|██████████| 938/938 [00:05<00:00, 177.41it/s, loss=2.18]  \n"
     ]
    },
    {
     "name": "stdout",
     "output_type": "stream",
     "text": [
      "Epoch [5/5], Loss: 2.1592\n",
      "Test Loss: 0.3866, Accuracy: 85.94%\n"
     ]
    }
   ],
   "source": [
    "from src.train import normal_train\n",
    "model_demo = FashionMNISTModel()\n",
    "model_demo.to(device)\n",
    "train_loader = datamanager.get_whole_set(mode='train')\n",
    "test_loader = datamanager.get_whole_set(mode='test')\n",
    "optimizer = torch.optim.SGD(model_demo.parameters(), lr=0.01, momentum=0.9)\n",
    "normal_train(model_demo, train_loader, criterion, optimizer, device, epochs=5)\n",
    "evaluate(model_demo, test_loader, criterion, device)\n"
   ]
  }
 ],
 "metadata": {
  "kernelspec": {
   "display_name": "drft",
   "language": "python",
   "name": "python3"
  },
  "language_info": {
   "codemirror_mode": {
    "name": "ipython",
    "version": 3
   },
   "file_extension": ".py",
   "mimetype": "text/x-python",
   "name": "python",
   "nbconvert_exporter": "python",
   "pygments_lexer": "ipython3",
   "version": "3.12.12"
  }
 },
 "nbformat": 4,
 "nbformat_minor": 5
}
