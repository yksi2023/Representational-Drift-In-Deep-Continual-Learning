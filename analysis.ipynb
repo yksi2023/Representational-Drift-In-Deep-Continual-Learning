{
 "cells": [
  {
   "cell_type": "code",
   "execution_count": null,
   "id": "4a6097be",
   "metadata": {},
   "outputs": [
    {
     "name": "stdout",
     "output_type": "stream",
     "text": [
      "Average Pearson correlation between model 1 and model 2: 0.16533979436223867\n"
     ]
    }
   ],
   "source": [
    "import sys\n",
    "import os\n",
    "import torch\n",
    "from src.models import FashionMNISTModel\n",
    "from datasets import IncrementalFashionMNIST\n",
    "from src.eval import evaluate\n",
    "from src.utils import add_heads\n",
    "\n",
    "\n",
    "device = torch.device('cuda' if torch.cuda.is_available() else 'cpu')\n",
    "criterion = torch.nn.CrossEntropyLoss()\n",
    "datamanager = IncrementalFashionMNIST()\n",
    "\n",
    "model_1 = FashionMNISTModel(output_size=2)\n",
    "model_1.to(device)\n",
    "model_1.load_state_dict(torch.load(\"experiments/fashion_mnist_incremental/model_after_task_1.pth\"))\n",
    "model_2 = FashionMNISTModel(output_size=4)\n",
    "model_2.to(device)\n",
    "model_2.load_state_dict(torch.load(\"experiments/fashion_mnist_incremental/model_after_task_2.pth\"))\n",
    "add_heads(model_1, 8)  \n",
    "add_heads(model_2, 6)\n",
    "\n",
    "\n",
    "\n",
    "\n",
    "## Compute pearson correlation between outputs of different models (normal training)\n",
    "def compute_pearson(model_a, model_b, dataloader, device):\n",
    "    model_a.eval()\n",
    "    model_b.eval()\n",
    "    correlations = []\n",
    "\n",
    "    with torch.no_grad():\n",
    "        for inputs, _ in dataloader:\n",
    "            inputs = inputs.to(device)\n",
    "            outputs_a = model_a(inputs).cpu()  # 确保在 CPU\n",
    "            outputs_b = model_b(inputs).cpu()\n",
    "\n",
    "            for out_a, out_b in zip(outputs_a, outputs_b):\n",
    "                # Flatten in case outputs are multidimensional\n",
    "                out_a_flat = out_a.flatten()\n",
    "                out_b_flat = out_b.flatten()\n",
    "\n",
    "                # 标准化\n",
    "                out_a_std = (out_a_flat - out_a_flat.mean()) / out_a_flat.std()\n",
    "                out_b_std = (out_b_flat - out_b_flat.mean()) / out_b_flat.std()\n",
    "\n",
    "                corr = torch.dot(out_a_std, out_b_std) / (out_a_flat.numel() - 1)\n",
    "                correlations.append(corr.item())\n",
    "\n",
    "    return sum(correlations) / len(correlations)  #  Pearson correlation\n",
    "\n",
    "data_loader = datamanager.get_loader(mode='test', label=range(10))\n",
    "pearson_corr = compute_pearson(model_1, model_2, data_loader, device)\n",
    "print(\"Average Pearson correlation between model 1 and model 2:\", pearson_corr)"
   ]
  }
 ],
 "metadata": {
  "kernelspec": {
   "display_name": "drft",
   "language": "python",
   "name": "python3"
  },
  "language_info": {
   "codemirror_mode": {
    "name": "ipython",
    "version": 3
   },
   "file_extension": ".py",
   "mimetype": "text/x-python",
   "name": "python",
   "nbconvert_exporter": "python",
   "pygments_lexer": "ipython3",
   "version": "3.12.12"
  }
 },
 "nbformat": 4,
 "nbformat_minor": 5
}
